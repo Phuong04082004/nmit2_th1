{
 "cells": [
  {
   "cell_type": "markdown",
   "id": "daed8c4f",
   "metadata": {},
   "source": [
    "# Let talk to Python\n",
    "# Math"
   ]
  },
  {
   "cell_type": "code",
   "execution_count": 4,
   "id": "998fa775",
   "metadata": {},
   "outputs": [
    {
     "data": {
      "text/plain": [
       "13"
      ]
     },
     "execution_count": 4,
     "metadata": {},
     "output_type": "execute_result"
    }
   ],
   "source": [
    "10 + 3"
   ]
  },
  {
   "cell_type": "code",
   "execution_count": 7,
   "id": "17cfc9f1",
   "metadata": {},
   "outputs": [
    {
     "data": {
      "text/plain": [
       "2"
      ]
     },
     "execution_count": 7,
     "metadata": {},
     "output_type": "execute_result"
    }
   ],
   "source": [
    "30 - 4 * 7"
   ]
  },
  {
   "cell_type": "markdown",
   "id": "065d27fc",
   "metadata": {},
   "source": [
    "### Tupe (ống)\n"
   ]
  },
  {
   "cell_type": "code",
   "execution_count": 5,
   "id": "859b3494",
   "metadata": {},
   "outputs": [],
   "source": [
    "mytuple = (\"banana\", \"cherry\", \"apple\")\n"
   ]
  },
  {
   "cell_type": "code",
   "execution_count": 6,
   "id": "72678b33",
   "metadata": {},
   "outputs": [
    {
     "data": {
      "text/plain": [
       "'banana'"
      ]
     },
     "execution_count": 6,
     "metadata": {},
     "output_type": "execute_result"
    }
   ],
   "source": [
    "mytuple[0]                                                                                                                                                                                                   "
   ]
  },
  {
   "cell_type": "code",
   "execution_count": 7,
   "id": "554e3ab7",
   "metadata": {},
   "outputs": [],
   "source": [
    "mylist = [\"banana\", \"cherry\", \"apple\"] "
   ]
  },
  {
   "cell_type": "code",
   "execution_count": 8,
   "id": "3e5ec9bc",
   "metadata": {},
   "outputs": [],
   "source": [
    "mylist[2] = \"New apple\""
   ]
  },
  {
   "cell_type": "code",
   "execution_count": 9,
   "id": "6e5d0057",
   "metadata": {},
   "outputs": [
    {
     "data": {
      "text/plain": [
       "['banana', 'cherry', 'New apple']"
      ]
     },
     "execution_count": 9,
     "metadata": {},
     "output_type": "execute_result"
    }
   ],
   "source": [
    "mylist"
   ]
  },
  {
   "cell_type": "code",
   "execution_count": 10,
   "id": "7f79838f",
   "metadata": {},
   "outputs": [
    {
     "ename": "TypeError",
     "evalue": "'tuple' object does not support item assignment",
     "output_type": "error",
     "traceback": [
      "\u001b[0;31m---------------------------------------------------------------------------\u001b[0m",
      "\u001b[0;31mTypeError\u001b[0m                                 Traceback (most recent call last)",
      "Cell \u001b[0;32mIn [10], line 1\u001b[0m\n\u001b[0;32m----> 1\u001b[0m \u001b[43mmytuple\u001b[49m\u001b[43m[\u001b[49m\u001b[38;5;241;43m2\u001b[39;49m\u001b[43m]\u001b[49m \u001b[38;5;241m=\u001b[39m \u001b[38;5;124m\"\u001b[39m\u001b[38;5;124mNew apple\u001b[39m\u001b[38;5;124m\"\u001b[39m\n",
      "\u001b[0;31mTypeError\u001b[0m: 'tuple' object does not support item assignment"
     ]
    }
   ],
   "source": [
    "mytuple[2] = \"New apple\""
   ]
  },
  {
   "cell_type": "code",
   "execution_count": 11,
   "id": "2e5e1a02",
   "metadata": {},
   "outputs": [],
   "source": [
    "mytuple2 = (\"Item1\", \"Item2\", [\"LI 1\", \"LI2\", \"LI3\"])"
   ]
  },
  {
   "cell_type": "code",
   "execution_count": 13,
   "id": "892a00ac",
   "metadata": {},
   "outputs": [],
   "source": [
    "mytuple2[2][2] = \"List Item3\""
   ]
  },
  {
   "cell_type": "code",
   "execution_count": 15,
   "id": "a4db0336",
   "metadata": {},
   "outputs": [
    {
     "data": {
      "text/plain": [
       "('Item1', 'Item2', ['LI 1', 'LI2', 'List Item3'])"
      ]
     },
     "execution_count": 15,
     "metadata": {},
     "output_type": "execute_result"
    }
   ],
   "source": [
    "mytuple2"
   ]
  },
  {
   "cell_type": "markdown",
   "id": "1d8bdcb6",
   "metadata": {},
   "source": [
    "### Set (Tập hợp)"
   ]
  },
  {
   "cell_type": "code",
   "execution_count": 20,
   "id": "5f7c536f",
   "metadata": {},
   "outputs": [],
   "source": [
    "myset = {\"banana\", \"cherry\", \"apple\", \"apple\"}"
   ]
  },
  {
   "cell_type": "code",
   "execution_count": 23,
   "id": "3b4e3ef8",
   "metadata": {},
   "outputs": [
    {
     "name": "stdout",
     "output_type": "stream",
     "text": [
      "{'apple', 'banana', 'cherry'}\n"
     ]
    }
   ],
   "source": [
    "print(myset)"
   ]
  },
  {
   "cell_type": "code",
   "execution_count": 24,
   "id": "11c0e7f4",
   "metadata": {},
   "outputs": [],
   "source": [
    "mylist = [\"banana\", \"cherry\", \"apple\", \"apple\" ]"
   ]
  },
  {
   "cell_type": "code",
   "execution_count": 25,
   "id": "9ba67125",
   "metadata": {},
   "outputs": [
    {
     "name": "stdout",
     "output_type": "stream",
     "text": [
      "['banana', 'cherry', 'apple', 'apple']\n"
     ]
    }
   ],
   "source": [
    "print(mylist)"
   ]
  },
  {
   "cell_type": "code",
   "execution_count": 26,
   "id": "4fc27a1f",
   "metadata": {},
   "outputs": [
    {
     "ename": "TypeError",
     "evalue": "'set' object is not subscriptable",
     "output_type": "error",
     "traceback": [
      "\u001b[0;31m---------------------------------------------------------------------------\u001b[0m",
      "\u001b[0;31mTypeError\u001b[0m                                 Traceback (most recent call last)",
      "Cell \u001b[0;32mIn [26], line 1\u001b[0m\n\u001b[0;32m----> 1\u001b[0m \u001b[43mmyset\u001b[49m\u001b[43m[\u001b[49m\u001b[38;5;241;43m1\u001b[39;49m\u001b[43m]\u001b[49m\n",
      "\u001b[0;31mTypeError\u001b[0m: 'set' object is not subscriptable"
     ]
    }
   ],
   "source": [
    "myset[1] "
   ]
  },
  {
   "cell_type": "code",
   "execution_count": 27,
   "id": "7eb9791b",
   "metadata": {},
   "outputs": [],
   "source": [
    "myset.add(\"Minh Bon\")"
   ]
  },
  {
   "cell_type": "code",
   "execution_count": 28,
   "id": "4ef0f3c2",
   "metadata": {},
   "outputs": [
    {
     "data": {
      "text/plain": [
       "{'Minh Bon', 'apple', 'banana', 'cherry'}"
      ]
     },
     "execution_count": 28,
     "metadata": {},
     "output_type": "execute_result"
    }
   ],
   "source": [
    "myset"
   ]
  },
  {
   "cell_type": "code",
   "execution_count": 29,
   "id": "57fa3bba",
   "metadata": {},
   "outputs": [
    {
     "data": {
      "text/plain": [
       "4"
      ]
     },
     "execution_count": 29,
     "metadata": {},
     "output_type": "execute_result"
    }
   ],
   "source": [
    "len(mylist)"
   ]
  },
  {
   "cell_type": "code",
   "execution_count": 30,
   "id": "cce9057f",
   "metadata": {},
   "outputs": [
    {
     "data": {
      "text/plain": [
       "3"
      ]
     },
     "execution_count": 30,
     "metadata": {},
     "output_type": "execute_result"
    }
   ],
   "source": [
    "len(mytuple)"
   ]
  },
  {
   "cell_type": "code",
   "execution_count": 31,
   "id": "a73f53d3",
   "metadata": {},
   "outputs": [
    {
     "data": {
      "text/plain": [
       "4"
      ]
     },
     "execution_count": 31,
     "metadata": {},
     "output_type": "execute_result"
    }
   ],
   "source": [
    "len(myset)"
   ]
  },
  {
   "cell_type": "markdown",
   "id": "ca42d917",
   "metadata": {},
   "source": [
    "** Bài tập **"
   ]
  },
  {
   "cell_type": "code",
   "execution_count": 32,
   "id": "730b8055",
   "metadata": {},
   "outputs": [],
   "source": [
    "student_name = [\"mark\", \"John\", \"Nam\", \"Brock\", \"Minh Bon\", \"John\"]"
   ]
  },
  {
   "cell_type": "code",
   "execution_count": 34,
   "id": "dc2d89ba",
   "metadata": {},
   "outputs": [],
   "source": [
    "myset = set(student_name)"
   ]
  },
  {
   "cell_type": "code",
   "execution_count": 35,
   "id": "fa295294",
   "metadata": {},
   "outputs": [
    {
     "name": "stdout",
     "output_type": "stream",
     "text": [
      "{'Nam', 'Brock', 'John', 'mark', 'Minh Bon'}\n"
     ]
    }
   ],
   "source": [
    "print(myset)"
   ]
  },
  {
   "cell_type": "code",
   "execution_count": 36,
   "id": "9028ad01",
   "metadata": {},
   "outputs": [
    {
     "data": {
      "text/plain": [
       "False"
      ]
     },
     "execution_count": 36,
     "metadata": {},
     "output_type": "execute_result"
    }
   ],
   "source": [
    "len(student_name) == len(myset)"
   ]
  },
  {
   "cell_type": "markdown",
   "id": "53488ef3",
   "metadata": {},
   "source": [
    "### Dictionary (Từ điển)\n",
    "Khai báo: thisdict = "
   ]
  },
  {
   "cell_type": "code",
   "execution_count": 37,
   "id": "bad0170e",
   "metadata": {},
   "outputs": [],
   "source": [
    "thisdict = {\"key1\":\"Value1\", \"key2\":\"Value2\"}"
   ]
  },
  {
   "cell_type": "code",
   "execution_count": 38,
   "id": "d257b948",
   "metadata": {},
   "outputs": [
    {
     "name": "stdout",
     "output_type": "stream",
     "text": [
      "{'key1': 'Value1', 'key2': 'Value2'}\n"
     ]
    }
   ],
   "source": [
    "print(thisdict)"
   ]
  },
  {
   "cell_type": "code",
   "execution_count": 39,
   "id": "bbf58304",
   "metadata": {},
   "outputs": [
    {
     "data": {
      "text/plain": [
       "'Value2'"
      ]
     },
     "execution_count": 39,
     "metadata": {},
     "output_type": "execute_result"
    }
   ],
   "source": [
    "thisdict[\"key2\"]"
   ]
  },
  {
   "cell_type": "code",
   "execution_count": 40,
   "id": "34a86fd3",
   "metadata": {},
   "outputs": [
    {
     "data": {
      "text/plain": [
       "2"
      ]
     },
     "execution_count": 40,
     "metadata": {},
     "output_type": "execute_result"
    }
   ],
   "source": [
    "len(thisdict)"
   ]
  },
  {
   "cell_type": "markdown",
   "id": "eb7766e5",
   "metadata": {},
   "source": [
    "# Logic (Control flow - Luồng điều khiển)\n",
    "If statement (Câu lệnh If)"
   ]
  },
  {
   "cell_type": "markdown",
   "id": "e69dafa9",
   "metadata": {},
   "source": [
    "## Loops (Vòng lặp)\n",
    "### Counting loops (Lặp đếm)\n",
    "- for Statement\n",
    "- Syntax:\n"
   ]
  },
  {
   "cell_type": "code",
   "execution_count": 53,
   "id": "c41b66db",
   "metadata": {},
   "outputs": [],
   "source": [
    "my_numbers = [1, 2, 3, 4, 5, 6, 7, 8, 9, 10]"
   ]
  },
  {
   "cell_type": "code",
   "execution_count": 54,
   "id": "941d22f5",
   "metadata": {},
   "outputs": [
    {
     "name": "stdout",
     "output_type": "stream",
     "text": [
      "1\n"
     ]
    }
   ],
   "source": [
    "print(my_numbers[0] ** 2)\n"
   ]
  },
  {
   "cell_type": "code",
   "execution_count": 57,
   "id": "8d5efd6f",
   "metadata": {},
   "outputs": [
    {
     "name": "stdout",
     "output_type": "stream",
     "text": [
      "1\n",
      "4\n",
      "9\n",
      "16\n",
      "25\n",
      "36\n",
      "49\n",
      "64\n",
      "81\n",
      "100\n"
     ]
    }
   ],
   "source": [
    "for item in my_numbers: \n",
    "    print(item ** 2)"
   ]
  },
  {
   "cell_type": "markdown",
   "id": "01b0bd0b",
   "metadata": {},
   "source": [
    "#### Conditional loops (Lặp điều khiển)\n",
    "- ``while Statememt``"
   ]
  },
  {
   "cell_type": "code",
   "execution_count": null,
   "id": "e97fda73",
   "metadata": {},
   "outputs": [],
   "source": [
    "count = 0 \n",
    "while count < 4:\n",
    "    print(\"The count is:\", count)\n",
    "    count =  count +1"
   ]
  },
  {
   "cell_type": "markdown",
   "id": "1fdf5d12",
   "metadata": {},
   "source": [
    "## Functions (hàm số)\n",
    "Function's signature\n",
    "- function name - tên hàm\n",
    "- function parameters - tham số của hàm\n",
    "````my function(param1, param2, ...)````"
   ]
  },
  {
   "cell_type": "code",
   "execution_count": null,
   "id": "133994c0",
   "metadata": {},
   "outputs": [],
   "source": [
    "def say_hello():\n",
    "    print(\"hello world\")"
   ]
  },
  {
   "cell_type": "code",
   "execution_count": null,
   "id": "de1b878a",
   "metadata": {},
   "outputs": [],
   "source": [
    "say_hello()"
   ]
  },
  {
   "cell_type": "markdown",
   "id": "d6f83960",
   "metadata": {},
   "source": [
    "## Function output"
   ]
  },
  {
   "cell_type": "code",
   "execution_count": null,
   "id": "ba197418",
   "metadata": {},
   "outputs": [],
   "source": [
    "my_mu = doubles(14)"
   ]
  },
  {
   "cell_type": "markdown",
   "id": "50cca3ff",
   "metadata": {},
   "source": [
    "## Input"
   ]
  },
  {
   "cell_type": "code",
   "execution_count": 1,
   "id": "419d989d",
   "metadata": {},
   "outputs": [
    {
     "name": "stdout",
     "output_type": "stream",
     "text": [
      "Phuong\n"
     ]
    }
   ],
   "source": [
    "name = input()"
   ]
  },
  {
   "cell_type": "code",
   "execution_count": 2,
   "id": "7420333b",
   "metadata": {},
   "outputs": [
    {
     "data": {
      "text/plain": [
       "'Phuong'"
      ]
     },
     "execution_count": 2,
     "metadata": {},
     "output_type": "execute_result"
    }
   ],
   "source": [
    "name"
   ]
  },
  {
   "cell_type": "code",
   "execution_count": 3,
   "id": "ea542811",
   "metadata": {},
   "outputs": [
    {
     "name": "stdout",
     "output_type": "stream",
     "text": [
      "Nhap vao ten cua ban:Phuong\n"
     ]
    }
   ],
   "source": [
    "name = input(\"Nhap vao ten cua ban:\")"
   ]
  },
  {
   "cell_type": "markdown",
   "id": "4111a079",
   "metadata": {},
   "source": []
  },
  {
   "cell_type": "code",
   "execution_count": 4,
   "id": "f788ba58",
   "metadata": {},
   "outputs": [
    {
     "data": {
      "text/plain": [
       "'Phuong'"
      ]
     },
     "execution_count": 4,
     "metadata": {},
     "output_type": "execute_result"
    }
   ],
   "source": [
    "name"
   ]
  },
  {
   "cell_type": "code",
   "execution_count": 5,
   "id": "b41e3ba7",
   "metadata": {},
   "outputs": [
    {
     "name": "stdout",
     "output_type": "stream",
     "text": [
      "Nhap vao mot so:9\n"
     ]
    }
   ],
   "source": [
    "my_number = int(input(\"Nhap vao mot so: \"))"
   ]
  },
  {
   "cell_type": "code",
   "execution_count": 6,
   "id": "97e5b68d",
   "metadata": {},
   "outputs": [
    {
     "data": {
      "text/plain": [
       "'9'"
      ]
     },
     "execution_count": 6,
     "metadata": {},
     "output_type": "execute_result"
    }
   ],
   "source": [
    "my_number"
   ]
  },
  {
   "cell_type": "code",
   "execution_count": 7,
   "id": "4b3b24c8",
   "metadata": {},
   "outputs": [
    {
     "data": {
      "text/plain": [
       "str"
      ]
     },
     "execution_count": 7,
     "metadata": {},
     "output_type": "execute_result"
    }
   ],
   "source": [
    "type(my_number)"
   ]
  },
  {
   "cell_type": "code",
   "execution_count": 9,
   "id": "174356c4",
   "metadata": {},
   "outputs": [
    {
     "data": {
      "text/plain": [
       "str"
      ]
     },
     "execution_count": 9,
     "metadata": {},
     "output_type": "execute_result"
    }
   ],
   "source": [
    "type(my_number)"
   ]
  },
  {
   "cell_type": "code",
   "execution_count": 12,
   "id": "77044fcd",
   "metadata": {},
   "outputs": [],
   "source": [
    "def hello_there():\n",
    "    name = input(\"What is your name? \")\n",
    "    print(\"hello\", name, \"how are you today? \")"
   ]
  },
  {
   "cell_type": "code",
   "execution_count": 13,
   "id": "c5aa0fb1",
   "metadata": {},
   "outputs": [
    {
     "name": "stdout",
     "output_type": "stream",
     "text": [
      "What is your name? \n",
      "hello  how are you today? \n"
     ]
    }
   ],
   "source": [
    "hello_there()"
   ]
  },
  {
   "cell_type": "markdown",
   "id": "1cbbdbe5",
   "metadata": {},
   "source": [
    "## Modules (Thư viện)"
   ]
  },
  {
   "cell_type": "code",
   "execution_count": 14,
   "id": "d2c04ad1",
   "metadata": {},
   "outputs": [],
   "source": [
    "import random as rd"
   ]
  },
  {
   "cell_type": "code",
   "execution_count": 16,
   "id": "1d0f03ce",
   "metadata": {},
   "outputs": [
    {
     "data": {
      "text/plain": [
       "77"
      ]
     },
     "execution_count": 16,
     "metadata": {},
     "output_type": "execute_result"
    }
   ],
   "source": [
    "random.randint(1, 100)\n"
   ]
  },
  {
   "cell_type": "markdown",
   "id": "a709e0b7",
   "metadata": {},
   "source": []
  },
  {
   "cell_type": "code",
   "execution_count": 19,
   "id": "d682cee9",
   "metadata": {},
   "outputs": [],
   "source": [
    "import time"
   ]
  },
  {
   "cell_type": "code",
   "execution_count": 20,
   "id": "abc90eea",
   "metadata": {},
   "outputs": [
    {
     "data": {
      "text/plain": [
       "('+07', '+07')"
      ]
     },
     "execution_count": 20,
     "metadata": {},
     "output_type": "execute_result"
    }
   ],
   "source": [
    "time.tzname"
   ]
  },
  {
   "cell_type": "code",
   "execution_count": 26,
   "id": "15374873",
   "metadata": {},
   "outputs": [],
   "source": [
    "import calendar as ca"
   ]
  },
  {
   "cell_type": "code",
   "execution_count": 27,
   "id": "507a74d4",
   "metadata": {},
   "outputs": [
    {
     "name": "stdout",
     "output_type": "stream",
     "text": [
      "   November 2022\n",
      "Mo Tu We Th Fr Sa Su\n",
      "    1  2  3  4  5  6\n",
      " 7  8  9 10 11 12 13\n",
      "14 15 16 17 18 19 20\n",
      "21 22 23 24 25 26 27\n",
      "28 29 30\n"
     ]
    }
   ],
   "source": [
    "ca.prmonth(2022, 11)"
   ]
  },
  {
   "cell_type": "code",
   "execution_count": 28,
   "id": "0a33e32c",
   "metadata": {},
   "outputs": [
    {
     "name": "stdout",
     "output_type": "stream",
     "text": [
      "Defaulting to user installation because normal site-packages is not writeable\n",
      "Collecting pandas\n",
      "  Downloading pandas-1.5.1-cp39-cp39-manylinux_2_17_x86_64.manylinux2014_x86_64.whl (12.2 MB)\n",
      "     |████████████████████████████████| 12.2 MB 1.4 MB/s            \n",
      "\u001b[?25hRequirement already satisfied: pytz>=2020.1 in /opt/tljh/user/lib/python3.9/site-packages (from pandas) (2022.6)\n",
      "Requirement already satisfied: numpy>=1.20.3 in /opt/tljh/user/lib/python3.9/site-packages (from pandas) (1.23.4)\n",
      "Requirement already satisfied: python-dateutil>=2.8.1 in /opt/tljh/user/lib/python3.9/site-packages (from pandas) (2.8.2)\n",
      "Requirement already satisfied: six>=1.5 in /opt/tljh/user/lib/python3.9/site-packages (from python-dateutil>=2.8.1->pandas) (1.16.0)\n",
      "Installing collected packages: pandas\n",
      "Successfully installed pandas-1.5.1\n"
     ]
    }
   ],
   "source": [
    "!pip install pandas"
   ]
  },
  {
   "cell_type": "markdown",
   "id": "bbc2f558",
   "metadata": {},
   "source": [
    "## Create a module (Tạo một module)"
   ]
  },
  {
   "cell_type": "code",
   "execution_count": null,
   "id": "8e6918e1",
   "metadata": {},
   "outputs": [],
   "source": [
    "import mymodule as mm"
   ]
  },
  {
   "cell_type": "code",
   "execution_count": null,
   "id": "bc0ccf91",
   "metadata": {},
   "outputs": [],
   "source": [
    "mm.welcom(\"Phuong\")"
   ]
  },
  {
   "cell_type": "code",
   "execution_count": null,
   "id": "f5d02a78",
   "metadata": {},
   "outputs": [],
   "source": [
    "%reload_ext autoreload\n",
    "%autoreload 2"
   ]
  },
  {
   "cell_type": "code",
   "execution_count": 6,
   "id": "f9e699b4",
   "metadata": {},
   "outputs": [
    {
     "ename": "NameError",
     "evalue": "name 'dn' is not defined",
     "output_type": "error",
     "traceback": [
      "\u001b[0;31m---------------------------------------------------------------------------\u001b[0m",
      "\u001b[0;31mNameError\u001b[0m                                 Traceback (most recent call last)",
      "Cell \u001b[0;32mIn [6], line 1\u001b[0m\n\u001b[0;32m----> 1\u001b[0m \u001b[43mdn\u001b[49m\u001b[38;5;241m.\u001b[39mmydiv(\u001b[38;5;241m10\u001b[39m, \u001b[38;5;241m3\u001b[39m)\n",
      "\u001b[0;31mNameError\u001b[0m: name 'dn' is not defined"
     ]
    }
   ],
   "source": [
    "dn.mydiv(10, 3)"
   ]
  },
  {
   "cell_type": "code",
   "execution_count": 7,
   "id": "546daa80",
   "metadata": {},
   "outputs": [
    {
     "ename": "NameError",
     "evalue": "name 'sg' is not defined",
     "output_type": "error",
     "traceback": [
      "\u001b[0;31m---------------------------------------------------------------------------\u001b[0m",
      "\u001b[0;31mNameError\u001b[0m                                 Traceback (most recent call last)",
      "Cell \u001b[0;32mIn [7], line 1\u001b[0m\n\u001b[0;32m----> 1\u001b[0m \u001b[43msg\u001b[49m\u001b[38;5;241m.\u001b[39mplay_game3()\n",
      "\u001b[0;31mNameError\u001b[0m: name 'sg' is not defined"
     ]
    }
   ],
   "source": [
    "sg.play_game3()"
   ]
  },
  {
   "cell_type": "code",
   "execution_count": null,
   "id": "55cbc139",
   "metadata": {},
   "outputs": [],
   "source": []
  }
 ],
 "metadata": {
  "kernelspec": {
   "display_name": "Python 3 (ipykernel)",
   "language": "python",
   "name": "python3"
  },
  "language_info": {
   "codemirror_mode": {
    "name": "ipython",
    "version": 3
   },
   "file_extension": ".py",
   "mimetype": "text/x-python",
   "name": "python",
   "nbconvert_exporter": "python",
   "pygments_lexer": "ipython3",
   "version": "3.9.7"
  }
 },
 "nbformat": 4,
 "nbformat_minor": 5
}
